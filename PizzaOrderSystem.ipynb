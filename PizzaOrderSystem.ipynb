{
  "nbformat": 4,
  "nbformat_minor": 0,
  "metadata": {
    "colab": {
      "provenance": []
    },
    "kernelspec": {
      "name": "python3",
      "display_name": "Python 3"
    },
    "language_info": {
      "name": "python"
    }
  },
  "cells": [
    {
      "cell_type": "code",
      "source": [
        "!pip install datetime\n",
        "!pip install python-csv"
      ],
      "metadata": {
        "colab": {
          "base_uri": "https://localhost:8080/",
          "height": 959
        },
        "id": "u2CL_H8734Wk",
        "outputId": "0ae8d9ea-e01e-4f58-8723-26e5b09e248c"
      },
      "execution_count": 39,
      "outputs": [
        {
          "output_type": "stream",
          "name": "stdout",
          "text": [
            "Looking in indexes: https://pypi.org/simple, https://us-python.pkg.dev/colab-wheels/public/simple/\n",
            "Requirement already satisfied: datetime in /usr/local/lib/python3.8/dist-packages (5.0)\n",
            "Requirement already satisfied: pytz in /usr/local/lib/python3.8/dist-packages (from datetime) (2022.7.1)\n",
            "Requirement already satisfied: zope.interface in /usr/local/lib/python3.8/dist-packages (from datetime) (5.5.2)\n",
            "Requirement already satisfied: setuptools in /usr/local/lib/python3.8/dist-packages (from zope.interface->datetime) (57.4.0)\n",
            "Looking in indexes: https://pypi.org/simple, https://us-python.pkg.dev/colab-wheels/public/simple/\n",
            "Requirement already satisfied: python-csv in /usr/local/lib/python3.8/dist-packages (0.0.13)\n",
            "Requirement already satisfied: demjson in /usr/local/lib/python3.8/dist-packages (from python-csv) (2.2.4)\n",
            "Requirement already satisfied: xlrd in /usr/local/lib/python3.8/dist-packages (from python-csv) (1.2.0)\n",
            "Requirement already satisfied: matplotlib in /usr/local/lib/python3.8/dist-packages (from python-csv) (3.5.3)\n",
            "Requirement already satisfied: jtutils in /usr/local/lib/python3.8/dist-packages (from python-csv) (0.0.8)\n",
            "Requirement already satisfied: pandas in /usr/local/lib/python3.8/dist-packages (from python-csv) (1.3.5)\n",
            "Requirement already satisfied: numpy in /usr/local/lib/python3.8/dist-packages (from python-csv) (1.22.4)\n",
            "Requirement already satisfied: xmltodict in /usr/local/lib/python3.8/dist-packages (from python-csv) (0.13.0)\n",
            "Requirement already satisfied: leven in /usr/local/lib/python3.8/dist-packages (from python-csv) (1.0.4)\n",
            "Collecting argparse\n",
            "  Using cached argparse-1.4.0-py2.py3-none-any.whl (23 kB)\n",
            "Requirement already satisfied: requests in /usr/local/lib/python3.8/dist-packages (from jtutils->python-csv) (2.25.1)\n",
            "Requirement already satisfied: beautifulsoup4 in /usr/local/lib/python3.8/dist-packages (from jtutils->python-csv) (4.6.3)\n",
            "Requirement already satisfied: selenium in /usr/local/lib/python3.8/dist-packages (from jtutils->python-csv) (4.8.2)\n",
            "Requirement already satisfied: six in /usr/local/lib/python3.8/dist-packages (from leven->python-csv) (1.15.0)\n",
            "Requirement already satisfied: nose in /usr/local/lib/python3.8/dist-packages (from leven->python-csv) (1.3.7)\n",
            "Requirement already satisfied: fonttools>=4.22.0 in /usr/local/lib/python3.8/dist-packages (from matplotlib->python-csv) (4.38.0)\n",
            "Requirement already satisfied: python-dateutil>=2.7 in /usr/local/lib/python3.8/dist-packages (from matplotlib->python-csv) (2.8.2)\n",
            "Requirement already satisfied: kiwisolver>=1.0.1 in /usr/local/lib/python3.8/dist-packages (from matplotlib->python-csv) (1.4.4)\n",
            "Requirement already satisfied: pillow>=6.2.0 in /usr/local/lib/python3.8/dist-packages (from matplotlib->python-csv) (8.4.0)\n",
            "Requirement already satisfied: pyparsing>=2.2.1 in /usr/local/lib/python3.8/dist-packages (from matplotlib->python-csv) (3.0.9)\n",
            "Requirement already satisfied: cycler>=0.10 in /usr/local/lib/python3.8/dist-packages (from matplotlib->python-csv) (0.11.0)\n",
            "Requirement already satisfied: packaging>=20.0 in /usr/local/lib/python3.8/dist-packages (from matplotlib->python-csv) (23.0)\n",
            "Requirement already satisfied: pytz>=2017.3 in /usr/local/lib/python3.8/dist-packages (from pandas->python-csv) (2022.7.1)\n",
            "Requirement already satisfied: certifi>=2017.4.17 in /usr/local/lib/python3.8/dist-packages (from requests->jtutils->python-csv) (2022.12.7)\n",
            "Requirement already satisfied: idna<3,>=2.5 in /usr/local/lib/python3.8/dist-packages (from requests->jtutils->python-csv) (2.10)\n",
            "Requirement already satisfied: urllib3<1.27,>=1.21.1 in /usr/local/lib/python3.8/dist-packages (from requests->jtutils->python-csv) (1.26.14)\n",
            "Requirement already satisfied: chardet<5,>=3.0.2 in /usr/local/lib/python3.8/dist-packages (from requests->jtutils->python-csv) (4.0.0)\n",
            "Requirement already satisfied: trio-websocket~=0.9 in /usr/local/lib/python3.8/dist-packages (from selenium->jtutils->python-csv) (0.9.2)\n",
            "Requirement already satisfied: trio~=0.17 in /usr/local/lib/python3.8/dist-packages (from selenium->jtutils->python-csv) (0.22.0)\n",
            "Requirement already satisfied: exceptiongroup>=1.0.0rc9 in /usr/local/lib/python3.8/dist-packages (from trio~=0.17->selenium->jtutils->python-csv) (1.1.0)\n",
            "Requirement already satisfied: outcome in /usr/local/lib/python3.8/dist-packages (from trio~=0.17->selenium->jtutils->python-csv) (1.2.0)\n",
            "Requirement already satisfied: sniffio in /usr/local/lib/python3.8/dist-packages (from trio~=0.17->selenium->jtutils->python-csv) (1.3.0)\n",
            "Requirement already satisfied: attrs>=19.2.0 in /usr/local/lib/python3.8/dist-packages (from trio~=0.17->selenium->jtutils->python-csv) (22.2.0)\n",
            "Requirement already satisfied: sortedcontainers in /usr/local/lib/python3.8/dist-packages (from trio~=0.17->selenium->jtutils->python-csv) (2.4.0)\n",
            "Requirement already satisfied: async-generator>=1.9 in /usr/local/lib/python3.8/dist-packages (from trio~=0.17->selenium->jtutils->python-csv) (1.10)\n",
            "Requirement already satisfied: wsproto>=0.14 in /usr/local/lib/python3.8/dist-packages (from trio-websocket~=0.9->selenium->jtutils->python-csv) (1.2.0)\n",
            "Requirement already satisfied: PySocks!=1.5.7,<2.0,>=1.5.6 in /usr/local/lib/python3.8/dist-packages (from urllib3<1.27,>=1.21.1->requests->jtutils->python-csv) (1.7.1)\n",
            "Requirement already satisfied: h11<1,>=0.9.0 in /usr/local/lib/python3.8/dist-packages (from wsproto>=0.14->trio-websocket~=0.9->selenium->jtutils->python-csv) (0.14.0)\n",
            "Installing collected packages: argparse\n",
            "Successfully installed argparse-1.4.0\n"
          ]
        },
        {
          "output_type": "display_data",
          "data": {
            "application/vnd.colab-display-data+json": {
              "pip_warning": {
                "packages": [
                  "argparse"
                ]
              }
            }
          },
          "metadata": {}
        }
      ]
    },
    {
      "cell_type": "code",
      "source": [
        "from datetime import datetime # Gün tarih ve saatini otomatik öğrenmek için\n",
        "import csv\n",
        "\n",
        "from google.colab import drive # Google Drive üzerinden veri okumak için\n",
        "drive.mount('/content/gdrive', force_remount=True) # İlgili Drive üzerinden yetki istiyor"
      ],
      "metadata": {
        "colab": {
          "base_uri": "https://localhost:8080/"
        },
        "id": "Fi2QvwJt3wvs",
        "outputId": "fe41daab-5442-4f91-b795-0bb980701284"
      },
      "execution_count": 12,
      "outputs": [
        {
          "output_type": "stream",
          "name": "stdout",
          "text": [
            "Mounted at /content/gdrive\n"
          ]
        }
      ]
    },
    {
      "cell_type": "code",
      "source": [
        "def menuGetir():\n",
        "  with open(r\"/content/gdrive/My Drive/PizzaOrderSystem/menu.txt\", \"r\") as f:\n",
        "    print(f.read())"
      ],
      "metadata": {
        "id": "kS2EQ5J7Lb0J"
      },
      "execution_count": 13,
      "outputs": []
    },
    {
      "cell_type": "code",
      "source": [
        "def siparisleriListele():\n",
        "  with open(r\"/content/gdrive/My Drive/PizzaOrderSystem/Orders_Database.csv\", mode=\"r\") as yeni_dosya:\n",
        "    print(yeni_dosya.read())"
      ],
      "metadata": {
        "id": "afB09yBZrfjQ"
      },
      "execution_count": 35,
      "outputs": []
    },
    {
      "cell_type": "code",
      "execution_count": 14,
      "metadata": {
        "id": "ppLbxEhest4s"
      },
      "outputs": [],
      "source": [
        "class Pizza:\n",
        "  def __init__(self, cost, description, ):\n",
        "    self.cost = cost\n",
        "    self.description = description\n",
        "    \n",
        "  def get_cost(self):\n",
        "       return self.cost\n",
        "\n",
        "  def get_description(self):\n",
        "       return self.description\n",
        "\n",
        "class Classic(Pizza):\n",
        "  def __init__(self, cost, description):\n",
        "    super().__init__(cost, description)\n",
        "\n",
        "class Margherita(Pizza):\n",
        "  def __init__(self, cost, description):\n",
        "    super().__init__(cost, description)\n",
        "\n",
        "class TurkPizza(Pizza):\n",
        "  def __init__(self, cost, description):\n",
        "    super().__init__(cost, description)\n",
        "\n",
        "class DominosPizza(Pizza):\n",
        "  def __init__(self, cost, description):\n",
        "    super().__init__(cost, description)"
      ]
    },
    {
      "cell_type": "code",
      "source": [
        "class Sauce:\n",
        "  def __init__(self, cost, description):\n",
        "    self.cost = cost\n",
        "    self.description = description\n",
        "\n",
        "  def get_cost(self):\n",
        "       return self.cost\n",
        "\n",
        "  def get_description(self):\n",
        "       return self.description\n",
        "\n",
        "class Olive(Sauce):\n",
        "  def __init__(self, cost, description):\n",
        "    super().__init__(cost, description)\n",
        "\n",
        "class Mushrooms(Sauce):\n",
        "  def __init__(self, cost, description):\n",
        "    super().__init__(cost, description)\n",
        "\n",
        "class GoatCheese(Sauce):\n",
        "  def __init__(self, cost, description):\n",
        "    super().__init__(cost, description)\n",
        "\n",
        "class Meat(Sauce):\n",
        "  def __init__(self, cost, description):\n",
        "    super().__init__(cost, description)\n",
        "\n",
        "class Onion(Sauce):\n",
        "  def __init__(self, cost, description):\n",
        "    super().__init__(cost, description)\n",
        "\n",
        "class Corn(Sauce):\n",
        "  def __init__(self, cost, description):\n",
        "    super().__init__(cost, description)"
      ],
      "metadata": {
        "id": "3813PkWr_K0o"
      },
      "execution_count": 15,
      "outputs": []
    },
    {
      "cell_type": "code",
      "source": [
        "class Decorator:\n",
        "  def __init__(self, pizza: Pizza, sauce: Sauce):\n",
        "    self.pizza = pizza\n",
        "    self.sauce = sauce\n",
        "\n",
        "  def get_cost(self):\n",
        "    return self.sauce.get_cost() + self.pizza.get_cost()\n",
        "\n",
        "  def get_description(self):\n",
        "    return self.sauce.get_description() + ' ' + self.pizza.get_description()"
      ],
      "metadata": {
        "id": "8S2cw-BAEamM"
      },
      "execution_count": 16,
      "outputs": []
    },
    {
      "cell_type": "code",
      "source": [
        "klasikPizza = Classic(25, \"Klasik Pizza\")\n",
        "margaritaPizza = Margherita(30, \"Margarita Pizza\")\n",
        "turkPizzaPizza = TurkPizza(35, \"Türk Pizza\")\n",
        "dominosPizza = DominosPizza(40, \"Dominos Pizza\")\n",
        "\n",
        "zeytin = Olive(3, \"Zeytinli\")\n",
        "gemlikZeytin = Olive(5, \"Gemlik Zeytinli\")\n",
        "mantar = Mushrooms(4, \"Mantarlı\")\n",
        "keciPeyniri = GoatCheese(5, \"Keçi Peynirli\")\n",
        "et = Meat(10, \"Etli\")\n",
        "sogan = Onion(2, \"Soğanlı\")\n",
        "misir = Corn(4, \"Mısırlı\")"
      ],
      "metadata": {
        "id": "EO3jiBUg2JOy"
      },
      "execution_count": 17,
      "outputs": []
    },
    {
      "cell_type": "code",
      "source": [
        "def pizzaSec(pizzaKod):\n",
        "    if pizzaKod == \"1\":\n",
        "      return klasikPizza\n",
        "    elif pizzaKod == \"2\":\n",
        "      return margaritaPizza\n",
        "    elif pizzaKod == \"3\":\n",
        "      return turkPizzaPizza\n",
        "    elif pizzaKod == \"4\":\n",
        "      return dominosPizza"
      ],
      "metadata": {
        "id": "5QV1d0i0MSsK"
      },
      "execution_count": 18,
      "outputs": []
    },
    {
      "cell_type": "code",
      "source": [
        "def sosSec(sosKod):\n",
        "    if sosKod == \"11\":\n",
        "      return zeytin\n",
        "    elif sosKod == \"12\":\n",
        "      return gemlikZeytin;\n",
        "    elif sosKod == \"13\":\n",
        "      return mantar\n",
        "    elif sosKod == \"14\":\n",
        "      return keciPeyniri\n",
        "    elif sosKod == \"15\":\n",
        "      return et\n",
        "    elif sosKod == \"16\":\n",
        "      return sogan\n",
        "    elif sosKod == \"17\":\n",
        "      return misir"
      ],
      "metadata": {
        "id": "8jSqnCe1Mfeq"
      },
      "execution_count": 19,
      "outputs": []
    },
    {
      "cell_type": "code",
      "source": [
        "while True:\n",
        "  menuGetir()\n",
        "  pizzaKod = input(\"Lütfen seçmek istediğiniz pizza kodunu giriniz: \")\n",
        "  sosKod = input(\"Lütfen seçmek istediğiniz sos kodunu giriniz: \")\n",
        "  urun = Decorator(pizzaSec(pizzaKod), sosSec(sosKod))\n",
        "  print(urun.get_description(), str(urun.get_cost()) + \"TL\")\n",
        "\n",
        "  print(\"Sipariş için kullanıcı bilgileri alınacaktır.\")\n",
        "  isim = input(\"İsim giriniz: \")\n",
        "  tc = input(\"TC Kimlik giriniz: \")\n",
        "  kart = input(\"Kredi Kartı numarası giriniz: \")\n",
        "  sifre = input(\"Kredi Kartı şifresini giriniz: \")\n",
        "  tarih = datetime.today()\n",
        "\n",
        "  with open(r\"/content/gdrive/My Drive/PizzaOrderSystem/Orders_Database.csv\", mode=\"a\") as yeni_dosya:\n",
        "    yeni_yazici = csv.writer(yeni_dosya, delimiter=',', quotechar='\"', quoting=csv.QUOTE_MINIMAL)\n",
        "    yeni_yazici.writerow([isim, tc, kart, sifre, urun.get_description(), urun.get_cost(), tarih])\n",
        "\n",
        "  devamMi = input(\"Devam etmek istiyor musunuz: e/h => \")\n",
        "  if devamMi==\"h\":\n",
        "    break"
      ],
      "metadata": {
        "colab": {
          "base_uri": "https://localhost:8080/"
        },
        "id": "CkB6T4d005ZZ",
        "outputId": "bc0afa19-bac3-49e0-aaf3-30cd14117f09"
      },
      "execution_count": 37,
      "outputs": [
        {
          "name": "stdout",
          "output_type": "stream",
          "text": [
            "* Please Choose a Pizza Base: \n",
            "1: Classic \n",
            "2: Margherita \n",
            "3: TurkPizza \n",
            "4: PlainPizza \n",
            "* and sauce of your choice: \n",
            "11: Olives \n",
            "12: Gemlik Olive\n",
            "13: Mushrooms \n",
            "14: GoatCheese \n",
            "15: Meat \n",
            "16: Onions \n",
            "17: Corn \n",
            "* Thank you!\n",
            "Lütfen seçmek istediğiniz pizza kodunu giriniz: 1\n",
            "Lütfen seçmek istediğiniz sos kodunu giriniz: 11\n",
            "Zeytinli Klasik Pizza 28TL\n",
            "Sipariş için kullanıcı bilgileri alınacaktır.\n",
            "İsim giriniz: Okan\n",
            "TC Kimlik giriniz: 12345678910\n",
            "Kredi Kartı numarası giriniz: 1234567890123456\n",
            "Kredi Kartı şifresini giriniz: ww77re4y\n",
            "Devam etmek istiyor musunuz: e/h => h\n"
          ]
        }
      ]
    },
    {
      "cell_type": "code",
      "source": [
        "siparisleriListele()"
      ],
      "metadata": {
        "id": "ZiadrrIz0wSc",
        "colab": {
          "base_uri": "https://localhost:8080/"
        },
        "outputId": "9a4fef75-9405-4906-e1d5-3a9345a0d3ec"
      },
      "execution_count": 38,
      "outputs": [
        {
          "output_type": "stream",
          "name": "stdout",
          "text": [
            "isim,tc,kart,sifre,aciklama,fiyat,tarih\n",
            "Okan,12345678910,1234567890123456,ww77re4y,Zeytinli Klasik Pizza,28,2023-02-27 21:16:19.232888\n",
            "\n"
          ]
        }
      ]
    }
  ]
}